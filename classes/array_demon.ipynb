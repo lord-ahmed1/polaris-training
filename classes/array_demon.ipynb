{
 "cells": [
  {
   "cell_type": "code",
   "execution_count": 2,
   "id": "38873223",
   "metadata": {},
   "outputs": [],
   "source": [
    "import numpy as np\n",
    "from time import time , sleep\n",
    "import sys\n"
   ]
  },
  {
   "cell_type": "code",
   "execution_count": 6,
   "id": "f5541296",
   "metadata": {},
   "outputs": [
    {
     "name": "stdout",
     "output_type": "stream",
     "text": [
      "list size : 424.076256 Mega bytes\n",
      "array size : 400.000112 Mega bytes\n",
      "-5.6773147893476965\n"
     ]
    }
   ],
   "source": [
    "\n",
    "list=[i for i in range(int(5e7))]\n",
    "array=np.array(list)\n",
    "\n",
    "\n",
    "list_size=sys.getsizeof(list)\n",
    "array_size=sys.getsizeof(array)\n",
    "print(f\"list size : {list_size/1000000} Mega bytes\")\n",
    "print(f\"array size : {array_size/1000000} Mega bytes\")\n",
    "print((array_size-list_size)/list_size*100)\n"
   ]
  },
  {
   "cell_type": "code",
   "execution_count": 7,
   "id": "d3dff6e1",
   "metadata": {},
   "outputs": [
    {
     "name": "stdout",
     "output_type": "stream",
     "text": [
      "\n",
      "summation of list time : 0.337127685546875 seconds\n"
     ]
    }
   ],
   "source": [
    "start = time()\n",
    "list_sum=sum(list)\n",
    "end = time()\n",
    "print(f\"\\nsummation of list time : {end-start} seconds\")\n"
   ]
  },
  {
   "cell_type": "code",
   "execution_count": 9,
   "id": "79c9bbac",
   "metadata": {},
   "outputs": [
    {
     "name": "stdout",
     "output_type": "stream",
     "text": [
      "summation of array time : 0.05473804473876953 seconds\n"
     ]
    }
   ],
   "source": [
    "start = time()\n",
    "array_sum=np.sum(array)\n",
    "end = time()\n",
    "print(f\"summation of array time : {end-start} seconds\")\n",
    "\n"
   ]
  },
  {
   "cell_type": "code",
   "execution_count": 10,
   "id": "ebf6e39c",
   "metadata": {},
   "outputs": [
    {
     "name": "stdout",
     "output_type": "stream",
     "text": [
      "summation array using normal method time : 3.0774097442626953 seconds\n"
     ]
    }
   ],
   "source": [
    "#   try to use numpy functions with arrays as posible\n",
    "start = time()\n",
    "array_sum=sum(array)\n",
    "end = time()\n",
    "print(f\"summation array using normal method time : {end-start} seconds\")\n",
    "\n"
   ]
  },
  {
   "cell_type": "code",
   "execution_count": 11,
   "id": "8a08df01",
   "metadata": {},
   "outputs": [
    {
     "name": "stdout",
     "output_type": "stream",
     "text": [
      "\n",
      "changing list values time : 4.405606269836426 seconds\n"
     ]
    }
   ],
   "source": [
    "# accessing values and changing it\n",
    "start = time()\n",
    "for i in range(len(list)):\n",
    "    list[i]=1\n",
    "end = time()\n",
    "print(f\"\\nchanging list values time : {end-start} seconds\")\n",
    "\n"
   ]
  },
  {
   "cell_type": "code",
   "execution_count": 12,
   "id": "83e11f08",
   "metadata": {},
   "outputs": [
    {
     "name": "stdout",
     "output_type": "stream",
     "text": [
      "changing array values time : 0.0772247314453125 seconds\n"
     ]
    }
   ],
   "source": [
    "start = time()\n",
    "array[:]=1\n",
    "end = time()\n",
    "print(f\"changing array values time : {end-start} seconds\")\n"
   ]
  }
 ],
 "metadata": {
  "kernelspec": {
   "display_name": "Python 3",
   "language": "python",
   "name": "python3"
  },
  "language_info": {
   "codemirror_mode": {
    "name": "ipython",
    "version": 3
   },
   "file_extension": ".py",
   "mimetype": "text/x-python",
   "name": "python",
   "nbconvert_exporter": "python",
   "pygments_lexer": "ipython3",
   "version": "3.8.10"
  }
 },
 "nbformat": 4,
 "nbformat_minor": 5
}
